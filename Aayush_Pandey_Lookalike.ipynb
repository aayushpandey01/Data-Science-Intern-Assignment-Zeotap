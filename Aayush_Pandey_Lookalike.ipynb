{
 "cells": [
  {
   "cell_type": "code",
   "execution_count": 1,
   "id": "787367e1-29cc-4627-aa82-b9224878dfdc",
   "metadata": {},
   "outputs": [],
   "source": [
    "import pandas as pd\n",
    "from sklearn.metrics.pairwise import cosine_similarity\n",
    "import numpy as np"
   ]
  },
  {
   "cell_type": "code",
   "execution_count": 2,
   "id": "accb66dd-bf19-43cf-a5b1-334915374f89",
   "metadata": {},
   "outputs": [],
   "source": [
    "customers_df = pd.read_csv(\"C:\\\\Users\\\\ASUS\\\\Downloads\\\\Customers.csv\")\n",
    "products_df = pd.read_csv(\"C:\\\\Users\\\\ASUS\\\\Downloads\\\\Products.csv\")\n",
    "transactions_df = pd.read_csv(\"C:\\\\Users\\\\ASUS\\\\Downloads\\\\Transactions.csv\")"
   ]
  },
  {
   "cell_type": "code",
   "execution_count": 3,
   "id": "c236ac5e-6364-4b49-8727-4cbbf29fce18",
   "metadata": {},
   "outputs": [],
   "source": [
    "transactions_products = transactions_df.merge(products_df, on=\"ProductID\", how=\"left\")"
   ]
  },
  {
   "cell_type": "code",
   "execution_count": 4,
   "id": "9778bd9c-e5ee-4e76-a4ff-16d273db616d",
   "metadata": {},
   "outputs": [],
   "source": [
    "full_data = transactions_products.merge(customers_df, on=\"CustomerID\", how=\"left\")"
   ]
  },
  {
   "cell_type": "code",
   "execution_count": 5,
   "id": "3c3c96bd-3e67-4197-8418-fb9031548be5",
   "metadata": {},
   "outputs": [],
   "source": [
    "customer_features = (\n",
    "    full_data.groupby(\"CustomerID\")\n",
    "    .agg(\n",
    "        total_spending=(\"TotalValue\", \"sum\"),\n",
    "        total_transactions=(\"TransactionID\", \"count\"),\n",
    "        avg_transaction_value=(\"TotalValue\", \"mean\"),\n",
    "        most_purchased_category=(\"Category\", lambda x: x.mode()[0] if not x.mode().empty else None),\n",
    "        region=(\"Region\", \"first\"),\n",
    "        signup_date=(\"SignupDate\", \"first\"),\n",
    "    )\n",
    "    .reset_index()\n",
    ")"
   ]
  },
  {
   "cell_type": "code",
   "execution_count": 6,
   "id": "f5b6dbf6-bbe1-4987-bc96-cdd3d212cb12",
   "metadata": {},
   "outputs": [],
   "source": [
    "customer_features_encoded = pd.get_dummies(customer_features, columns=[\"region\", \"most_purchased_category\"])"
   ]
  },
  {
   "cell_type": "code",
   "execution_count": 7,
   "id": "04254f45-ff4f-4bdb-b7c3-320438e52ccc",
   "metadata": {},
   "outputs": [],
   "source": [
    "feature_columns = customer_features_encoded.columns.difference([\"CustomerID\", \"signup_date\"])\n",
    "feature_matrix = customer_features_encoded[feature_columns].values"
   ]
  },
  {
   "cell_type": "code",
   "execution_count": 8,
   "id": "cf3f1f2d-274b-499d-92e1-2ec234f67681",
   "metadata": {},
   "outputs": [],
   "source": [
    "similarity_matrix = cosine_similarity(feature_matrix)"
   ]
  },
  {
   "cell_type": "code",
   "execution_count": 10,
   "id": "4247a0d6-aa21-4264-a6d3-6419ade518ed",
   "metadata": {},
   "outputs": [],
   "source": [
    "def get_top_similar(customers_df, similarity_matrix, top_n=3):\n",
    "    top_similarities = {}\n",
    "    for i, customer_id in enumerate(customers_df[\"CustomerID\"][:20]):\n",
    "        sim_scores = similarity_matrix[i]\n",
    "        top_indices = np.argsort(sim_scores)[::-1][1 : top_n + 1]\n",
    "        top_customers = customers_df.iloc[top_indices][\"CustomerID\"].values\n",
    "        top_scores = sim_scores[top_indices]\n",
    "        top_similarities[customer_id] = list(zip(top_customers, top_scores))\n",
    "    return top_similarities"
   ]
  },
  {
   "cell_type": "code",
   "execution_count": 11,
   "id": "7e608c9d-9b20-4c9a-b36b-7352aad5e801",
   "metadata": {},
   "outputs": [],
   "source": [
    "lookalike_results = get_top_similar(customer_features_encoded, similarity_matrix)"
   ]
  },
  {
   "cell_type": "code",
   "execution_count": 12,
   "id": "14ad96fb-b229-4093-8122-03284536d893",
   "metadata": {},
   "outputs": [],
   "source": [
    "lookalike_df = pd.DataFrame(\n",
    "    [\n",
    "        {\"CustomerID\": cust_id, \"Lookalikes\": lookalikes}\n",
    "        for cust_id, lookalikes in lookalike_results.items()\n",
    "    ]\n",
    ")"
   ]
  },
  {
   "cell_type": "code",
   "execution_count": 14,
   "id": "eaaf8384-159a-4c00-92e2-6b2979bd52d0",
   "metadata": {},
   "outputs": [
    {
     "name": "stdout",
     "output_type": "stream",
     "text": [
      "Lookalike model results saved to Lookalike_Results.csv\n"
     ]
    }
   ],
   "source": [
    "lookalike_df.to_csv(\"C:\\\\Users\\\\ASUS\\\\Downloads\\\\Lookalike_Results.csv\", index=False)\n",
    "\n",
    "print(\"Lookalike model results saved to Lookalike_Results.csv\")\n"
   ]
  },
  {
   "cell_type": "code",
   "execution_count": null,
   "id": "40c58be9-1caa-48e0-b7c7-8f997e0b521d",
   "metadata": {},
   "outputs": [],
   "source": []
  }
 ],
 "metadata": {
  "kernelspec": {
   "display_name": "Python 3 (ipykernel)",
   "language": "python",
   "name": "python3"
  },
  "language_info": {
   "codemirror_mode": {
    "name": "ipython",
    "version": 3
   },
   "file_extension": ".py",
   "mimetype": "text/x-python",
   "name": "python",
   "nbconvert_exporter": "python",
   "pygments_lexer": "ipython3",
   "version": "3.11.7"
  }
 },
 "nbformat": 4,
 "nbformat_minor": 5
}
